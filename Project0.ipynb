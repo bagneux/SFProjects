{
 "cells": [
  {
   "cell_type": "code",
   "execution_count": 5,
   "metadata": {},
   "outputs": [
    {
     "name": "stdout",
     "output_type": "stream",
     "text": [
      "Ваш алгоритм угадывает число в среднем за 5 попыток\n"
     ]
    },
    {
     "data": {
      "text/plain": [
       "5"
      ]
     },
     "execution_count": 5,
     "metadata": {},
     "output_type": "execute_result"
    }
   ],
   "source": [
    "import numpy as np\n",
    "\n",
    "\n",
    "def game_core_v2(number):\n",
    "    \"\"\" Reduce the attemps to guess the number.\n",
    "    \n",
    "    Set a random number from 1 to 100.\n",
    "    Make computer guess the number by shortening the range of numbers \n",
    "    where it could be.\n",
    "    \n",
    "    Count the attempts.\n",
    "    \"\"\"\n",
    "    number = np.random.randint(1,101)\n",
    "    lower_border = 0\n",
    "    upper_border = 100\n",
    "    guess = 50\n",
    "    count = 0\n",
    "    \n",
    "    while guess != number:\n",
    "        count += 1\n",
    "        guess = (lower_border+upper_border) // 2\n",
    "        if guess > number:\n",
    "            upper_border = guess\n",
    "        elif guess < number:\n",
    "            lower_border = guess + 1\n",
    "        \n",
    "    return(count)\n",
    "        \n",
    "        \n",
    "def score_game(game_core):\n",
    "    \"\"\"Run game_core_v2 function 1000 times to find out how many attempts \n",
    "    the function takes to guess the number on average.\n",
    "    \"\"\"\n",
    "    count_ls = []\n",
    "    np.random.seed(1)  # Fix RANDOM SEED to make your experiment reproducible.\n",
    "    random_array = np.random.randint(1,101, size=(1000))\n",
    "    \n",
    "    for number in random_array:\n",
    "        count_ls.append(game_core(number))\n",
    "    score = int(np.mean(count_ls))\n",
    "    print(f\"Ваш алгоритм угадывает число в среднем за {score} попыток\")\n",
    "    \n",
    "    return(score)\n",
    "\n",
    "\n",
    "score_game(game_core_v2)    "
   ]
  },
  {
   "cell_type": "code",
   "execution_count": null,
   "metadata": {},
   "outputs": [],
   "source": []
  }
 ],
 "metadata": {
  "kernelspec": {
   "display_name": "Python 3",
   "language": "python",
   "name": "python3"
  },
  "language_info": {
   "codemirror_mode": {
    "name": "ipython",
    "version": 3
   },
   "file_extension": ".py",
   "mimetype": "text/x-python",
   "name": "python",
   "nbconvert_exporter": "python",
   "pygments_lexer": "ipython3",
   "version": "3.7.6"
  }
 },
 "nbformat": 4,
 "nbformat_minor": 4
}
